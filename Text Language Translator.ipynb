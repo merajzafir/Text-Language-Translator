{
 "cells": [
  {
   "cell_type": "code",
   "execution_count": 17,
   "metadata": {},
   "outputs": [
    {
     "name": "stdout",
     "output_type": "stream",
     "text": [
      "Requirement already satisfied: ibm_watson in /home/jupyterlab/conda/envs/python/lib/python3.6/site-packages (4.4.0)\n",
      "Requirement already satisfied: wget in /home/jupyterlab/conda/envs/python/lib/python3.6/site-packages (3.2)\n",
      "Requirement already satisfied: websocket-client==0.48.0 in /home/jupyterlab/conda/envs/python/lib/python3.6/site-packages (from ibm_watson) (0.48.0)\n",
      "Requirement already satisfied: python-dateutil>=2.5.3 in /home/jupyterlab/conda/envs/python/lib/python3.6/site-packages (from ibm_watson) (2.8.1)\n",
      "Requirement already satisfied: requests<3.0,>=2.0 in /home/jupyterlab/conda/envs/python/lib/python3.6/site-packages (from ibm_watson) (2.23.0)\n",
      "Requirement already satisfied: ibm-cloud-sdk-core==1.5.1 in /home/jupyterlab/conda/envs/python/lib/python3.6/site-packages (from ibm_watson) (1.5.1)\n",
      "Requirement already satisfied: six in /home/jupyterlab/conda/envs/python/lib/python3.6/site-packages (from websocket-client==0.48.0->ibm_watson) (1.14.0)\n",
      "Requirement already satisfied: certifi>=2017.4.17 in /home/jupyterlab/conda/envs/python/lib/python3.6/site-packages (from requests<3.0,>=2.0->ibm_watson) (2020.4.5.1)\n",
      "Requirement already satisfied: chardet<4,>=3.0.2 in /home/jupyterlab/conda/envs/python/lib/python3.6/site-packages (from requests<3.0,>=2.0->ibm_watson) (3.0.4)\n",
      "Requirement already satisfied: urllib3!=1.25.0,!=1.25.1,<1.26,>=1.21.1 in /home/jupyterlab/conda/envs/python/lib/python3.6/site-packages (from requests<3.0,>=2.0->ibm_watson) (1.25.8)\n",
      "Requirement already satisfied: idna<3,>=2.5 in /home/jupyterlab/conda/envs/python/lib/python3.6/site-packages (from requests<3.0,>=2.0->ibm_watson) (2.9)\n",
      "Requirement already satisfied: PyJWT>=1.7.1 in /home/jupyterlab/conda/envs/python/lib/python3.6/site-packages (from ibm-cloud-sdk-core==1.5.1->ibm_watson) (1.7.1)\n"
     ]
    }
   ],
   "source": [
    "!pip install ibm_watson wget\n",
    "from ibm_watson import LanguageTranslatorV3\n",
    "from ibm_cloud_sdk_core.authenticators import IAMAuthenticator"
   ]
  },
  {
   "cell_type": "code",
   "execution_count": 2,
   "metadata": {},
   "outputs": [
    {
     "name": "stdout",
     "output_type": "stream",
     "text": [
      "<ibm_watson.language_translator_v3.LanguageTranslatorV3 object at 0x7fee6b935390>\n"
     ]
    }
   ],
   "source": [
    "#endpoint\n",
    "url_lt=\"https://api.us-south.language-translator.watson.cloud.ibm.com/instances/88fd223f-4ff3-40cc-9e1f-d6b6c7935c43\"\n",
    "#API Key\n",
    "api_key=\"FmhItrF3-XoE9hF_oIL59CwtlYxk8DCqtXKlBqOsDQ8a\"\n",
    "#version date\n",
    "vers= \"2020-04-22\"\n",
    "#creating Language Translator adapter object\n",
    "authenticator = IAMAuthenticator(api_key)\n",
    "lt = LanguageTranslatorV3(version=vers, authenticator=authenticator)\n",
    "lt.set_service_url(url_lt)\n",
    "print(lt)"
   ]
  },
  {
   "cell_type": "code",
   "execution_count": 13,
   "metadata": {},
   "outputs": [
    {
     "name": "stdout",
     "output_type": "stream",
     "text": [
      "{'translations': [{'translation': 'en este video vamos a cubrir la regresión polinómica y los oleoductos, lo que hacemos cuando un modelo lineal no es el mejor ajuste para nuestros datos, examinemos otro tipo de regresión la regresión polinómica que transformamos nuestros datos en un polinomio entonces utilizar regresión lineal para ajustar los parámetros que vamos a discutir los oleoductos es la manera de simplificar su regresión polinómica de código es un caso especial de la regresión lineal general este método es beneficioso para describir las relaciones curvilinas qué es una relación curvilínea que es lo que obtienes al cuadrar o establecer el orden superior los términos de las variables predictoras en el modelo que transforman los datos el modelo puede ser cuadrático, lo que significa que la variable predictora en el modelo es cuadrado nosotros usamos un corchete para indicar como un exponente esta es la segunda regresión polinómica de orden con una figura que representa la función el modelo puede ser cúbico que significa que la variable predictor es bonita esta es la tercera regresión polinómica de orden que vemos examinando la figura de que la función tiene más variación '}], 'word_count': 177, 'character_count': 1061}\n"
     ]
    }
   ],
   "source": [
    "data= \"in this video we will cover polynomial regression and pipelines what do we do when a linear model is not the best fit for our data let's look into another type of regression model the polynomial regression we transform our data into a polynomial then use linear regression to fit the parameters that we will discuss pipelines pipelines are way to simplify your code polynomial regression is a special case of the general linear regression this method is beneficial for describing curvilinear relationships what is a curvilinear relationship it's what you get by squaring or setting higher order terms of the predictor variables in the model transforming the data the model can be quadratic which means the predictor variable in the model is squared we use a bracket to indicated as an exponent this is the second order polynomial regression with a figure representing the function the model can be cubic which means the predictor variable is cute this is the third order polynomial regression we see by examining the figure that the function has more variation \"\n",
    "\n",
    "translation_response = lt.translate(text= data, model_id='en-es')\n",
    "translation=translation_response.get_result()\n",
    "print(translation)\n"
   ]
  },
  {
   "cell_type": "code",
   "execution_count": 14,
   "metadata": {},
   "outputs": [
    {
     "name": "stdout",
     "output_type": "stream",
     "text": [
      "en este video vamos a cubrir la regresión polinómica y los oleoductos, lo que hacemos cuando un modelo lineal no es el mejor ajuste para nuestros datos, examinemos otro tipo de regresión la regresión polinómica que transformamos nuestros datos en un polinomio entonces utilizar regresión lineal para ajustar los parámetros que vamos a discutir los oleoductos es la manera de simplificar su regresión polinómica de código es un caso especial de la regresión lineal general este método es beneficioso para describir las relaciones curvilinas qué es una relación curvilínea que es lo que obtienes al cuadrar o establecer el orden superior los términos de las variables predictoras en el modelo que transforman los datos el modelo puede ser cuadrático, lo que significa que la variable predictora en el modelo es cuadrado nosotros usamos un corchete para indicar como un exponente esta es la segunda regresión polinómica de orden con una figura que representa la función el modelo puede ser cúbico que significa que la variable predictor es bonita esta es la tercera regresión polinómica de orden que vemos examinando la figura de que la función tiene más variación \n"
     ]
    }
   ],
   "source": [
    "print(translation['translations'][0]['translation'])"
   ]
  }
 ],
 "metadata": {
  "kernelspec": {
   "display_name": "Python",
   "language": "python",
   "name": "conda-env-python-py"
  },
  "language_info": {
   "codemirror_mode": {
    "name": "ipython",
    "version": 3
   },
   "file_extension": ".py",
   "mimetype": "text/x-python",
   "name": "python",
   "nbconvert_exporter": "python",
   "pygments_lexer": "ipython3",
   "version": "3.6.10"
  }
 },
 "nbformat": 4,
 "nbformat_minor": 4
}
